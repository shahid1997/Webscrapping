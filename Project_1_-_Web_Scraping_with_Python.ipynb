{
 "cells": [
  {
   "cell_type": "markdown",
   "id": "e0808bd9",
   "metadata": {},
   "source": [
    "# End of the Day Stock data (EODData) - Web Scraping Project \n",
    "\n",
    "Data Source : [End of the Day Stock data](http://eoddata.com/stocklist/TSX/A.htm)\n",
    "![](https://imgur.com/ONhEMwe.jpg)"
   ]
  },
  {
   "cell_type": "markdown",
   "id": "0dc96c0a",
   "metadata": {},
   "source": [
    "### About End of the Day Stock data\n",
    "\n",
    "EODData is a leading provider of quality historical market data with easy to use download facilities at exceptional prices. Daily updates containing end of day quotes and intraday 1-minute bars can be downloaded automatically each day.\n",
    "Extensive, easy to access and affordable.\n",
    "\n",
    "The website also have a variety of servers that are dedicated to finding and correcting the numerous errors that stock exchanges produce. All of our historical data has been carefully screened and adjusted for splits.\n",
    "\n",
    "![](https://imgur.com/Vxph50u.jpg)"
   ]
  },
  {
   "cell_type": "markdown",
   "id": "9f035386",
   "metadata": {},
   "source": [
    "### Project Idea\n",
    "\n",
    "As part of this project, we will parse through the EODData website to get the details for Toronto Stock Exchange information.\n",
    "\n",
    "We will retrieve information from the page **’Toronto Stock Exchange’** using _web scraping_: a process of extracting information from a website programmatically. For this specific project we will be scraping stocks starting with Alphabets A to H."
   ]
  },
  {
   "cell_type": "markdown",
   "id": "d6a3e9dc",
   "metadata": {},
   "source": [
    "### Project Goal\n",
    "\n",
    "The project goal is to build a web scraper that withdraws stock information and assemble them into a single CSV. The format of the output CSV file is shown below:\n",
    "\n",
    "|#|Code|Name|High|Low|Close|Volume|Stock Page URL\n",
    "|-|----------|-------|---------------|-----|------|-----------------|-----------\n",
    "|1|AAB|Aberdeen International Inc|0.1400|0.1350|0.1400|13138|http://eoddata.com/stockquote/TSX/AAB.htm\n",
    "|2|AAV|Advantage Oil & Gas Ltd|6.370|6.130|6.360|684302|http://eoddata.com/stockquote/TSX/AAV.htm"
   ]
  },
  {
   "cell_type": "markdown",
   "id": "2d15860f",
   "metadata": {},
   "source": [
    "### Project steps\n",
    "Here is an outline of the steps we'll follow :\n",
    "\n",
    "1. Download the webpage using `requests`\n",
    "2. Parse the HTML source code using `BeautifulSoup` library and extract the desired infromation\n",
    "3. Building the scraper components\n",
    "4. Compile the extracted information into Python list and dictionaries\n",
    "5. Converting the python dictionaries into `Pandas DataFrames`\n",
    "5. Write information to the final CSV file\n",
    "7. Future work and references\n"
   ]
  },
  {
   "cell_type": "markdown",
   "id": "17995220",
   "metadata": {},
   "source": [
    "### How to run the code\n",
    "\n",
    "This tutorial is an executable [Jupyter notebook](https://jupyter.org) hosted on [Jovian](https://www.jovian.ai). You can _run_ this tutorial and experiment with the code examples in a couple of ways: *using free online resources* (recommended) or *on your computer*.\n",
    "\n",
    "#### Option 1: Running using free online resources (1-click, recommended)\n",
    "\n",
    "The easiest way to start executing the code is to click the **Run** button at the top of this page and select **Run on Binder**. You can also select \"Run on Colab\" or \"Run on Kaggle\", but you'll need to create an account on [Google Colab](https://colab.research.google.com) or [Kaggle](https://kaggle.com) to use these platforms.\n",
    "\n",
    "\n",
    "#### Option 2: Running on your computer locally\n",
    "\n",
    "To run the code on your computer locally, you'll need to set up [Python](https://www.python.org), download the notebook and install the required libraries. We recommend using the [Conda](https://docs.conda.io/projects/conda/en/latest/user-guide/install/) distribution of Python. Click the **Run** button at the top of this page, select the **Run Locally** option, and follow the instructions.\n",
    "\n",
    ">  **Jupyter Notebooks**: This tutorial is a [Jupyter notebook](https://jupyter.org) - a document made of _cells_. Each cell can contain code written in Python or explanations in plain English. You can execute code cells and view the results, e.g., numbers, messages, graphs, tables, files, etc., instantly within the notebook. Jupyter is a powerful platform for experimentation and analysis. Don't be afraid to mess around with the code & break things - you'll learn a lot by encountering and fixing errors. You can use the \"Kernel > Restart & Clear Output\" menu option to clear all outputs and start again from the top."
   ]
  },
  {
   "cell_type": "markdown",
   "id": "6b5f6ace",
   "metadata": {},
   "source": [
    "## Lets start with scraping\n",
    "\n",
    ">Note : We will use the `Jovian` library and its `commit()` function throughout the code to save our progress as we move along."
   ]
  },
  {
   "cell_type": "code",
   "execution_count": 3,
   "id": "859c5c8f",
   "metadata": {},
   "outputs": [],
   "source": [
    "!pip install jovian --upgrade --quiet\n",
    "import jovian\n",
    "# Execute this to save new versions of the notebook\n",
    "#jovian.commit(project=\"final-web-scraping-project\")"
   ]
  },
  {
   "cell_type": "markdown",
   "id": "fc671649",
   "metadata": {},
   "source": [
    "## Use the requests library to download web pages\n",
    "\n"
   ]
  },
  {
   "cell_type": "code",
   "execution_count": 4,
   "id": "402e2bac",
   "metadata": {},
   "outputs": [],
   "source": [
    "!pip install requests --quiet --upgrade\n",
    "import requests"
   ]
  },
  {
   "cell_type": "markdown",
   "id": "85cf7235",
   "metadata": {},
   "source": [
    "#### **requests.get()**\n",
    "\n",
    "In order to **download a web page**, we use `requests.get()` to **send the HTTP request** to the **IMDB server** and what the function returns is a **response object**, which is **the HTTP response**. "
   ]
  },
  {
   "cell_type": "code",
   "execution_count": 6,
   "id": "5dd90820",
   "metadata": {},
   "outputs": [],
   "source": [
    "home_url = 'http://eoddata.com/stocklist/TSX/A.htm'   #The URL Address of the webpage we will scrape, i.e. Stocks starting from A\n",
    "response = requests.get(home_url)      #requests.get()\n"
   ]
  },
  {
   "cell_type": "markdown",
   "id": "960553d0",
   "metadata": {},
   "source": [
    "![](https://imgur.com/1o1s92P.jpg)"
   ]
  },
  {
   "cell_type": "markdown",
   "id": "82ea88bb",
   "metadata": {},
   "source": [
    "#### **Status code**\n",
    "\n",
    "Now, we have to `check` if we succesfully send the HTTP request and get a HTTP response back on purpose. This is because we're NOT using browsers, because of which we can't get `the feedback` directly if we didn't send HTTP requests successfully.\n",
    "\n",
    "In general, the method to check out if the server sended a HTTP response back is the **status code**. In `requests` library, `requests.get` returns a response object, which containing the page contents and the information about status code indicating if the HTTP request was successful. Learn more about HTTP status codes here: https://developer.mozilla.org/en-US/docs/Web/HTTP/Status.\n",
    "\n",
    "\n",
    "If the request was successful, `response.status_code` is set to a value between **200 and 299**."
   ]
  },
  {
   "cell_type": "code",
   "execution_count": 8,
   "id": "9499717d",
   "metadata": {
    "scrolled": true
   },
   "outputs": [
    {
     "data": {
      "text/plain": [
       "200"
      ]
     },
     "execution_count": 8,
     "metadata": {},
     "output_type": "execute_result"
    }
   ],
   "source": [
    "response.status_code  "
   ]
  },
  {
   "cell_type": "markdown",
   "id": "04033ce6",
   "metadata": {},
   "source": [
    "The HTTP response contains HTML that is ready to be displayed in browser. Here we can use `response.text` to retrive the HTML document."
   ]
  },
  {
   "cell_type": "code",
   "execution_count": 9,
   "id": "f2a02c3e",
   "metadata": {},
   "outputs": [
    {
     "data": {
      "text/plain": [
       "115987"
      ]
     },
     "execution_count": 9,
     "metadata": {},
     "output_type": "execute_result"
    }
   ],
   "source": [
    "page_contents = response.text\n",
    "len(page_contents) "
   ]
  },
  {
   "cell_type": "code",
   "execution_count": 28,
   "id": "333e3f8b",
   "metadata": {},
   "outputs": [
    {
     "data": {
      "text/plain": [
       "'\\r\\n\\r\\n<!DOCTYPE html PUBLIC \"-//W3C//DTD XHTML 1.0 Transitional//EN\" \"http://www.w3.org/TR/xhtml1/DTD/xhtml1-transitional.dtd\">\\r\\n<html xmlns=\"http://www.w3.org/1999/xhtml\">\\r\\n<head><link rel=\"stylesheet\" href=\"../../styles/jquery-ui-1.10.0.custom.min.css\" type=\"text/css\" /><link rel=\"stylesheet\" href=\"../../styles/main.css\" type=\"text/css\" /><link rel=\"stylesheet\" href=\"../../styles/button.css\" type=\"text/css\" /><link rel=\"stylesheet\" href=\"../../styles/nav.css\" type=\"text/css\" />\\r\\n  <script src=\"/scripts/jquery-1.9.0.min.js\" type=\"text/javascript\"></script>\\r\\n  <script src=\"/scripts/jquery-ui-1.10.0.custom.min.js\" type=\"text/javascript\"></script>\\r\\n\\t<script type=\"text/javascript\">\\t\\tvar _sf_startpt = (new Date()).getTime()</script>\\r\\n\\t<script src=\"https://js.stripe.com/v3/\" type=\"text/javascript\"></script>\\r\\n\\t\\r\\n\\t<script type=\"text/javascript\" src=\"scripts/jquery-1.4.2.min.js\"></script>\\r\\n<meta name=\"keywords\" content=\"list of symbols for Toronto Stock Exchange,list of stock symbols,download sy'"
      ]
     },
     "execution_count": 28,
     "metadata": {},
     "output_type": "execute_result"
    }
   ],
   "source": [
    "page_contents[:1000] "
   ]
  },
  {
   "cell_type": "markdown",
   "id": "002eec48",
   "metadata": {},
   "source": [
    "- Above is the source code of the web page. It is written in a language called HTML. \n",
    "- It defines and display the content and structure of the web page by the help of the browsers like Chrome"
   ]
  },
  {
   "cell_type": "code",
   "execution_count": 10,
   "id": "3aa7157f",
   "metadata": {},
   "outputs": [],
   "source": [
    "#jovian.commit()"
   ]
  },
  {
   "cell_type": "markdown",
   "id": "f528bc1a",
   "metadata": {},
   "source": [
    "## Parse the HTML source code using Beautiful Soup library\n"
   ]
  },
  {
   "cell_type": "markdown",
   "id": "ff007562",
   "metadata": {},
   "source": [
    ">### What is Beautiful Soup?\n",
    "\n",
    ">Beautiful Soup is **a Python package** for **parsing HTML and XML documents**. Beautiful Soup enables us to get data out of sequences of characters. It creates a parse tree for parsed pages that can be used to extract data from HTML. It's a handy tool when it comes to web scraping. You can read more on their documentation site. https://www.crummy.com/software/BeautifulSoup/bs4/doc/#getting-help\n"
   ]
  },
  {
   "cell_type": "code",
   "execution_count": 12,
   "id": "25139ebd",
   "metadata": {},
   "outputs": [],
   "source": [
    "!pip install beautifulsoup4 --quiet --upgrade\n",
    "from bs4 import BeautifulSoup\n",
    "doc = BeautifulSoup(page_contents, 'html.parser')"
   ]
  },
  {
   "cell_type": "code",
   "execution_count": 13,
   "id": "03f5b50e",
   "metadata": {},
   "outputs": [
    {
     "data": {
      "text/plain": [
       "bs4.BeautifulSoup"
      ]
     },
     "execution_count": 13,
     "metadata": {},
     "output_type": "execute_result"
    }
   ],
   "source": [
    "type(doc)"
   ]
  },
  {
   "cell_type": "markdown",
   "id": "1febacf8",
   "metadata": {},
   "source": [
    "### Inspecting the HTML source code of a web page\n"
   ]
  },
  {
   "cell_type": "markdown",
   "id": "f196a17e",
   "metadata": {},
   "source": [
    ">In Beautiful Soup library, we can specify `html.parser` to ask Python to read components of the page, instead of reading it as a long string. \n",
    "\n",
    ">### What is HTML?\n",
    ">The HyperText Markup Language, or HTML is the standard markup language for documents designed to be displayed in a web browser. It can be assisted by technologies such as Cascading Style Sheets and scripting languages such as JavaScript.\n",
    "\n",
    "![](https://imgur.com/CA9wgTE.jpg)"
   ]
  },
  {
   "cell_type": "markdown",
   "id": "bd9d1807",
   "metadata": {},
   "source": [
    "#### **An HTML tag comprises of three parts:**\n",
    "\n",
    "1. **Name**: (`html`, `head`, `body`, `div`, etc.) Indicates what the tag represents and how a browser should interpret the information inside it.\n",
    "2. **Attributes**: (`href`, `target`, `class`, `id`, etc.) Properties of tag used by the browser to customize how a tag is displayed and decide what happens on user interactions.\n",
    "3. **Children**: A tag can contain some text or other tags or both between the opening and closing segments, e.g., `<div>Some content</div>`.\n",
    "\n",
    "\n",
    "### Common tags and attributes\n",
    "\n",
    "#### **Tags in HTML**\n",
    "\n",
    "There are around 100 types of HTML tags but on a day to day basis, around 15 to 20 of them are the most common use, such as `<div>` tag, `<p>` tag, `<section>` tag, `<img>` tag, `<a>` tags.\n",
    "\n",
    "\n",
    "Of many tags, I wanted to highlight **`<a>` tag**, which  can contain attributes such as `href` (hyperlink reference), because `<a>` tag allows users to click and they would be directed to another site. That's why the name of `<a>` tag is  **anchor**.\n",
    "\n",
    "#### **Attributes**\n",
    "\n",
    "Each tag supports several attributes. Following are some common attributes used to modify the behavior of tags\n",
    "\n",
    "* `id`\n",
    "* `style`\n",
    "* `class`\n",
    "* `href` (used with `<a>`)\n",
    "* `src` (used with `<img>`)"
   ]
  },
  {
   "cell_type": "markdown",
   "id": "2509bef1",
   "metadata": {},
   "source": [
    "`What we can do with **a BeautifulSoup object** is to get **a specifc types of a tag in HTML** by calling the name of a tag, as shown in code cell below.`\n",
    "\n",
    "Here, we use the `find()` function of BeautifulSoup to find the first `<title>` tag in the HTML document and display its content"
   ]
  },
  {
   "cell_type": "code",
   "execution_count": 14,
   "id": "da5d1d77",
   "metadata": {
    "scrolled": true
   },
   "outputs": [
    {
     "data": {
      "text/plain": [
       "<title>\n",
       "\tList of Symbols for Toronto Stock Exchange [TSX] Starting with A\n",
       "</title>"
      ]
     },
     "execution_count": 14,
     "metadata": {},
     "output_type": "execute_result"
    }
   ],
   "source": [
    "title = doc.find('title')\n",
    "title"
   ]
  },
  {
   "cell_type": "markdown",
   "id": "32ef63e8",
   "metadata": {},
   "source": [
    "### Inspecting HTML in the Browser\n",
    "\n",
    ">To view the **source code** of any webpage right within **your browser**, you can **right click** anywhere on a page and **select** the **\"Inspect\"** option. You access the **\"Developer Tools\"** mode, where you can see the source code as **a tree**. You can expand and collapse various nodes and find the source code for a specific portion of the page\n",
    "\n",
    "![](https://imgur.com/J6fZBAU.png)\n",
    "\n",
    "\n",
    "As shown in the photo above, I've cursored over one of the Stock to display how the entire content was presented. \n",
    "I found out that each `stock` was present inside the `<tr>` tag.\n",
    "\n",
    "Since I've pulled a single page and return to a BeautifulSoup object, we can start to use some function from Beautiful Soup library to withdraw the piece of information we want."
   ]
  },
  {
   "cell_type": "markdown",
   "id": "9219b5fa",
   "metadata": {},
   "source": [
    "#### Here we get the main tr tag for complete stock information. Note we have alternate stocks so getting both"
   ]
  },
  {
   "cell_type": "code",
   "execution_count": 19,
   "id": "c305ca51",
   "metadata": {},
   "outputs": [],
   "source": [
    "tr_parent1 = doc.find_all('tr',{'class':'ro'}) \n",
    "tr_parent2 = doc.find_all('tr',{'class':'re'})"
   ]
  },
  {
   "cell_type": "markdown",
   "id": "980a2520",
   "metadata": {},
   "source": [
    "#### Looks like we have around 127 records for stocks starting with 'A'"
   ]
  },
  {
   "cell_type": "code",
   "execution_count": 20,
   "id": "c22aacc8",
   "metadata": {},
   "outputs": [
    {
     "data": {
      "text/plain": [
       "127"
      ]
     },
     "execution_count": 20,
     "metadata": {},
     "output_type": "execute_result"
    }
   ],
   "source": [
    "len(tr_parent1) + len(tr_parent2)\n"
   ]
  },
  {
   "cell_type": "markdown",
   "id": "a36ec625",
   "metadata": {},
   "source": [
    "#### Let's get the indivdual td for the first stock which has all the information required"
   ]
  },
  {
   "cell_type": "code",
   "execution_count": 21,
   "id": "2d453d34",
   "metadata": {},
   "outputs": [],
   "source": [
    "td_child1 = tr_parent1[0].find_all('td')\n"
   ]
  },
  {
   "cell_type": "code",
   "execution_count": 22,
   "id": "c77c2170",
   "metadata": {},
   "outputs": [
    {
     "data": {
      "text/plain": [
       "[<td><a href=\"/stockquote/TSX/AAB.htm\" title=\"Display Quote &amp; Chart for TSX,AAB\">AAB</a></td>,\n",
       " <td>Aberdeen International Inc</td>,\n",
       " <td align=\"right\">0.0500</td>,\n",
       " <td align=\"right\">0.0450</td>,\n",
       " <td align=\"right\">0.0450</td>,\n",
       " <td align=\"right\">177,000</td>,\n",
       " <td align=\"right\">0.0000</td>,\n",
       " <td align=\"center\"><img src=\"/images/nc.gif\"/></td>,\n",
       " <td align=\"left\">0.00</td>,\n",
       " <td align=\"right\"><a href=\"/stockquote/TSX/AAB.htm\" title=\"Download Data for TSX,AAB\"><img height=\"14\" src=\"/images/dl.gif\" width=\"14\"/></a> <a href=\"/stockquote/TSX/AAB.htm\" title=\"View Quote and Chart for TSX,AAB\"><img height=\"14\" src=\"/images/chart.gif\" width=\"14\"/></a></td>]"
      ]
     },
     "execution_count": 22,
     "metadata": {},
     "output_type": "execute_result"
    }
   ],
   "source": [
    "td_child1\n"
   ]
  },
  {
   "cell_type": "markdown",
   "id": "653f6677",
   "metadata": {},
   "source": [
    "### Getting Single Stocks Information"
   ]
  },
  {
   "cell_type": "markdown",
   "id": "c5736250",
   "metadata": {},
   "source": [
    "#### Symbol"
   ]
  },
  {
   "cell_type": "code",
   "execution_count": 23,
   "id": "f9860838",
   "metadata": {},
   "outputs": [],
   "source": [
    "symbol = td_child1[0].find('a').text.strip()"
   ]
  },
  {
   "cell_type": "markdown",
   "id": "b0f48729",
   "metadata": {},
   "source": [
    "#### Name"
   ]
  },
  {
   "cell_type": "code",
   "execution_count": 24,
   "id": "c5c8c5ba",
   "metadata": {},
   "outputs": [],
   "source": [
    "name = td_child1[1].text.strip()"
   ]
  },
  {
   "cell_type": "markdown",
   "id": "5473242f",
   "metadata": {},
   "source": [
    "#### High Value"
   ]
  },
  {
   "cell_type": "code",
   "execution_count": 27,
   "id": "9ba7d69d",
   "metadata": {},
   "outputs": [],
   "source": [
    "high = td_child1[2].text.strip()"
   ]
  },
  {
   "cell_type": "markdown",
   "id": "e3d0275a",
   "metadata": {},
   "source": [
    "#### Low Value "
   ]
  },
  {
   "cell_type": "code",
   "execution_count": 28,
   "id": "80da0b0b",
   "metadata": {},
   "outputs": [],
   "source": [
    "low = td_child1[3].text.strip()"
   ]
  },
  {
   "cell_type": "markdown",
   "id": "94704fbd",
   "metadata": {},
   "source": [
    "#### Closing Value"
   ]
  },
  {
   "cell_type": "code",
   "execution_count": 29,
   "id": "276b1821",
   "metadata": {},
   "outputs": [],
   "source": [
    "close = td_child1[4].text.strip()"
   ]
  },
  {
   "cell_type": "markdown",
   "id": "23e2237e",
   "metadata": {},
   "source": [
    "#### Total Volume"
   ]
  },
  {
   "cell_type": "code",
   "execution_count": 30,
   "id": "f85ec638",
   "metadata": {},
   "outputs": [],
   "source": [
    "volume = td_child1[5].text.strip().replace(',', '') # Here we remove the comma"
   ]
  },
  {
   "cell_type": "markdown",
   "id": "8090a136",
   "metadata": {},
   "source": [
    "#### URL Of Stocks"
   ]
  },
  {
   "cell_type": "code",
   "execution_count": 32,
   "id": "f1b3bdf6",
   "metadata": {},
   "outputs": [],
   "source": [
    "url = \"http://eoddata.com/\" + td_child1[0].find('a')['href'] # Here we append the base url"
   ]
  },
  {
   "cell_type": "markdown",
   "id": "fd11ba35",
   "metadata": {},
   "source": [
    "#### Printing all the values "
   ]
  },
  {
   "cell_type": "code",
   "execution_count": 33,
   "id": "b7540e2e",
   "metadata": {},
   "outputs": [
    {
     "name": "stdout",
     "output_type": "stream",
     "text": [
      "Symbol: AAB\n",
      "Name: Aberdeen International Inc\n",
      "High: 0.0500\n",
      "Low: 0.0450\n",
      "Volume: 177000\n",
      "URL: http://eoddata.com//stockquote/TSX/AAB.htm\n"
     ]
    }
   ],
   "source": [
    "print(\"Symbol:\", format(symbol))\n",
    "print(\"Name:\", format(name))\n",
    "print(\"High:\", format(high))\n",
    "print(\"Low:\", format(low))\n",
    "print(\"Volume:\", format(volume))\n",
    "print(\"URL:\", format(url))"
   ]
  },
  {
   "cell_type": "markdown",
   "id": "47c9c6fc",
   "metadata": {},
   "source": [
    "## Creating the  function with all the information\n"
   ]
  },
  {
   "cell_type": "code",
   "execution_count": 45,
   "id": "4254f00e",
   "metadata": {},
   "outputs": [],
   "source": [
    "def parse_document(tr_tag):\n",
    "    \n",
    "    td_tag = tr_tag.find_all('td')\n",
    "    symbol = td_tag[0].find('a').text.strip()\n",
    "    name = td_tag[1].text.strip()\n",
    "    high = td_tag[2].text.strip()\n",
    "    low = td_tag[3].text.strip()\n",
    "    close = td_tag[4].text.strip()\n",
    "    volume = td_tag[5].text.strip().replace(',', '')\n",
    "    url = \"http://eoddata.com/\" + td_child1[0].find('a')['href']\n",
    "    \n",
    "    print(\"Symbol:\", format(symbol))\n",
    "    print(\"Name:\", format(name))\n",
    "    print(\"High:\", format(high))\n",
    "    print(\"Low:\", format(low))\n",
    "    print(\"Volume:\", format(volume))\n",
    "    print(\"URL:\", format(url))\n",
    "    "
   ]
  },
  {
   "cell_type": "markdown",
   "id": "ec9c1716",
   "metadata": {},
   "source": [
    "### Let's test the function by for specific stock"
   ]
  },
  {
   "cell_type": "code",
   "execution_count": 46,
   "id": "bbc2a46d",
   "metadata": {
    "scrolled": true
   },
   "outputs": [
    {
     "name": "stdout",
     "output_type": "stream",
     "text": [
      "Symbol: ACB.WS.U\n",
      "Name: Aurora Cannabis Inc Ws USD\n",
      "High: 0.1500\n",
      "Low: 0.1500\n",
      "Volume: 5000\n",
      "URL: http://eoddata.com//stockquote/TSX/AAB.htm\n"
     ]
    }
   ],
   "source": [
    "parse_document(tr_parent1[5])"
   ]
  },
  {
   "cell_type": "code",
   "execution_count": 47,
   "id": "5c1d6155",
   "metadata": {},
   "outputs": [
    {
     "name": "stdout",
     "output_type": "stream",
     "text": [
      "Symbol: ADCO.WT\n",
      "Name: Adcore Inc Wts\n",
      "High: 0.0050\n",
      "Low: 0.0050\n",
      "Volume: 10000\n",
      "URL: http://eoddata.com//stockquote/TSX/AAB.htm\n"
     ]
    }
   ],
   "source": [
    "parse_document(tr_parent1[11])"
   ]
  },
  {
   "cell_type": "markdown",
   "id": "f82adc34",
   "metadata": {},
   "source": [
    "### Now let's update the function to return dictionary "
   ]
  },
  {
   "cell_type": "code",
   "execution_count": 55,
   "id": "10f792fe",
   "metadata": {},
   "outputs": [],
   "source": [
    "def parse_document(tr_tag):\n",
    "    \n",
    "    td_tag = tr_tag.find_all('td')\n",
    "    symbol = td_tag[0].find('a').text.strip()\n",
    "    name = td_tag[1].text.strip()\n",
    "    high = td_tag[2].text.strip()\n",
    "    low = td_tag[3].text.strip()\n",
    "    close = td_tag[4].text.strip()\n",
    "    volume = td_tag[5].text.strip().replace(',', '')\n",
    "    url = \"http://eoddata.com/\" + td_tag[0].find('a')['href']\n",
    "    \n",
    "    # Return a dictionary\n",
    "    return {\n",
    "        'Symbol': symbol,\n",
    "        'Name': name,        \n",
    "        'High': high,\n",
    "        'Low': low,\n",
    "        'Close': close,\n",
    "        'Volume': volume,\n",
    "        'URL': url\n",
    "    }   "
   ]
  },
  {
   "cell_type": "markdown",
   "id": "83a4d204",
   "metadata": {},
   "source": [
    "### Using function to get all the stock information of the given page"
   ]
  },
  {
   "cell_type": "code",
   "execution_count": 56,
   "id": "f6aab479",
   "metadata": {},
   "outputs": [],
   "source": [
    "all_records_1 = [parse_document(tag) for tag in tr_parent1]\n",
    "all_records_2 = [parse_document(tag) for tag in tr_parent2]"
   ]
  },
  {
   "cell_type": "code",
   "execution_count": 57,
   "id": "5ae16010",
   "metadata": {},
   "outputs": [
    {
     "data": {
      "text/plain": [
       "127"
      ]
     },
     "execution_count": 57,
     "metadata": {},
     "output_type": "execute_result"
    }
   ],
   "source": [
    "len(all_records_1) + len(all_records_2) # The length the page records matches with the len we found earlier."
   ]
  },
  {
   "cell_type": "markdown",
   "id": "9e54459b",
   "metadata": {},
   "source": [
    "#### Combining both the list "
   ]
  },
  {
   "cell_type": "code",
   "execution_count": 58,
   "id": "2d22c1b3",
   "metadata": {},
   "outputs": [],
   "source": [
    "all_records = [item for sublist in zip(all_records_1, all_records_2) for item in sublist]"
   ]
  },
  {
   "cell_type": "code",
   "execution_count": 59,
   "id": "e1f58562",
   "metadata": {},
   "outputs": [
    {
     "data": {
      "text/plain": [
       "126"
      ]
     },
     "execution_count": 59,
     "metadata": {},
     "output_type": "execute_result"
    }
   ],
   "source": [
    "len(all_records)"
   ]
  },
  {
   "cell_type": "markdown",
   "id": "e59b3a6a",
   "metadata": {},
   "source": [
    "## Writing information to CSV files"
   ]
  },
  {
   "cell_type": "code",
   "execution_count": 60,
   "id": "e18e7760",
   "metadata": {},
   "outputs": [],
   "source": [
    "def write_csv(items, path):\n",
    "    # Open the file in write mode\n",
    "    with open(path, 'w') as f:\n",
    "        # Return if there's nothing to write\n",
    "        if len(items) == 0:\n",
    "            return\n",
    "        \n",
    "        # Write the headers in the first line\n",
    "        headers = list(items[0].keys())\n",
    "        f.write(','.join(headers) + '\\n')\n",
    "        \n",
    "        # Write one item per line\n",
    "        for item in items:\n",
    "            values = []\n",
    "            for header in headers:\n",
    "                values.append(str(item.get(header, \"\")))\n",
    "            f.write(','.join(values) + \"\\n\")"
   ]
  },
  {
   "cell_type": "markdown",
   "id": "109f4012",
   "metadata": {},
   "source": [
    "### Testing the function"
   ]
  },
  {
   "cell_type": "code",
   "execution_count": 61,
   "id": "ca196094",
   "metadata": {},
   "outputs": [],
   "source": [
    "write_csv(all_records,\"A.csv\")"
   ]
  },
  {
   "cell_type": "code",
   "execution_count": 62,
   "id": "7158327e",
   "metadata": {},
   "outputs": [],
   "source": [
    "import pandas as pd"
   ]
  },
  {
   "cell_type": "code",
   "execution_count": 63,
   "id": "f9710e61",
   "metadata": {},
   "outputs": [
    {
     "data": {
      "text/html": [
       "<div>\n",
       "<style scoped>\n",
       "    .dataframe tbody tr th:only-of-type {\n",
       "        vertical-align: middle;\n",
       "    }\n",
       "\n",
       "    .dataframe tbody tr th {\n",
       "        vertical-align: top;\n",
       "    }\n",
       "\n",
       "    .dataframe thead th {\n",
       "        text-align: right;\n",
       "    }\n",
       "</style>\n",
       "<table border=\"1\" class=\"dataframe\">\n",
       "  <thead>\n",
       "    <tr style=\"text-align: right;\">\n",
       "      <th></th>\n",
       "      <th>Symbol</th>\n",
       "      <th>Name</th>\n",
       "      <th>High</th>\n",
       "      <th>Low</th>\n",
       "      <th>Close</th>\n",
       "      <th>Volume</th>\n",
       "      <th>URL</th>\n",
       "    </tr>\n",
       "  </thead>\n",
       "  <tbody>\n",
       "    <tr>\n",
       "      <th>0</th>\n",
       "      <td>AAB</td>\n",
       "      <td>Aberdeen International Inc</td>\n",
       "      <td>0.050</td>\n",
       "      <td>0.045</td>\n",
       "      <td>0.045</td>\n",
       "      <td>177000</td>\n",
       "      <td>http://eoddata.com//stockquote/TSX/AAB.htm</td>\n",
       "    </tr>\n",
       "    <tr>\n",
       "      <th>1</th>\n",
       "      <td>AAV</td>\n",
       "      <td>Advantage Oil &amp; Gas Ltd</td>\n",
       "      <td>9.930</td>\n",
       "      <td>9.290</td>\n",
       "      <td>9.860</td>\n",
       "      <td>1289915</td>\n",
       "      <td>http://eoddata.com//stockquote/TSX/AAV.htm</td>\n",
       "    </tr>\n",
       "    <tr>\n",
       "      <th>2</th>\n",
       "      <td>ABCT</td>\n",
       "      <td>ABC Technologies Holdings Inc</td>\n",
       "      <td>5.020</td>\n",
       "      <td>4.780</td>\n",
       "      <td>4.780</td>\n",
       "      <td>5600</td>\n",
       "      <td>http://eoddata.com//stockquote/TSX/ABCT.htm</td>\n",
       "    </tr>\n",
       "    <tr>\n",
       "      <th>3</th>\n",
       "      <td>ABST</td>\n",
       "      <td>Absolute Software Corp</td>\n",
       "      <td>13.890</td>\n",
       "      <td>13.410</td>\n",
       "      <td>13.850</td>\n",
       "      <td>50324</td>\n",
       "      <td>http://eoddata.com//stockquote/TSX/ABST.htm</td>\n",
       "    </tr>\n",
       "    <tr>\n",
       "      <th>4</th>\n",
       "      <td>ABTC</td>\n",
       "      <td>Accelerate Carbon Negative Bitcoin ETF</td>\n",
       "      <td>1.870</td>\n",
       "      <td>1.860</td>\n",
       "      <td>1.870</td>\n",
       "      <td>4100</td>\n",
       "      <td>http://eoddata.com//stockquote/TSX/ABTC.htm</td>\n",
       "    </tr>\n",
       "    <tr>\n",
       "      <th>...</th>\n",
       "      <td>...</td>\n",
       "      <td>...</td>\n",
       "      <td>...</td>\n",
       "      <td>...</td>\n",
       "      <td>...</td>\n",
       "      <td>...</td>\n",
       "      <td>...</td>\n",
       "    </tr>\n",
       "    <tr>\n",
       "      <th>121</th>\n",
       "      <td>AX.PR.E</td>\n",
       "      <td>Artis REIT Pref Ser E</td>\n",
       "      <td>23.000</td>\n",
       "      <td>23.000</td>\n",
       "      <td>23.000</td>\n",
       "      <td>100</td>\n",
       "      <td>http://eoddata.com//stockquote/TSX/AX.PR.E.htm</td>\n",
       "    </tr>\n",
       "    <tr>\n",
       "      <th>122</th>\n",
       "      <td>AX.PR.I</td>\n",
       "      <td>Artis REIT Pref Series I</td>\n",
       "      <td>24.430</td>\n",
       "      <td>24.200</td>\n",
       "      <td>24.200</td>\n",
       "      <td>516</td>\n",
       "      <td>http://eoddata.com//stockquote/TSX/AX.PR.I.htm</td>\n",
       "    </tr>\n",
       "    <tr>\n",
       "      <th>123</th>\n",
       "      <td>AX.UN</td>\n",
       "      <td>Artis Real Estate Investment Trust Units</td>\n",
       "      <td>9.060</td>\n",
       "      <td>8.940</td>\n",
       "      <td>9.000</td>\n",
       "      <td>314994</td>\n",
       "      <td>http://eoddata.com//stockquote/TSX/AX.UN.htm</td>\n",
       "    </tr>\n",
       "    <tr>\n",
       "      <th>124</th>\n",
       "      <td>AXIS</td>\n",
       "      <td>Axis Auto Finance Inc</td>\n",
       "      <td>0.485</td>\n",
       "      <td>0.465</td>\n",
       "      <td>0.485</td>\n",
       "      <td>4500</td>\n",
       "      <td>http://eoddata.com//stockquote/TSX/AXIS.htm</td>\n",
       "    </tr>\n",
       "    <tr>\n",
       "      <th>125</th>\n",
       "      <td>AYA</td>\n",
       "      <td>Aya Gold and Silver Inc</td>\n",
       "      <td>9.750</td>\n",
       "      <td>8.920</td>\n",
       "      <td>9.640</td>\n",
       "      <td>648010</td>\n",
       "      <td>http://eoddata.com//stockquote/TSX/AYA.htm</td>\n",
       "    </tr>\n",
       "  </tbody>\n",
       "</table>\n",
       "<p>126 rows × 7 columns</p>\n",
       "</div>"
      ],
      "text/plain": [
       "      Symbol                                      Name    High     Low  \\\n",
       "0        AAB                Aberdeen International Inc   0.050   0.045   \n",
       "1        AAV                   Advantage Oil & Gas Ltd   9.930   9.290   \n",
       "2       ABCT             ABC Technologies Holdings Inc   5.020   4.780   \n",
       "3       ABST                    Absolute Software Corp  13.890  13.410   \n",
       "4       ABTC    Accelerate Carbon Negative Bitcoin ETF   1.870   1.860   \n",
       "..       ...                                       ...     ...     ...   \n",
       "121  AX.PR.E                     Artis REIT Pref Ser E  23.000  23.000   \n",
       "122  AX.PR.I                  Artis REIT Pref Series I  24.430  24.200   \n",
       "123    AX.UN  Artis Real Estate Investment Trust Units   9.060   8.940   \n",
       "124     AXIS                     Axis Auto Finance Inc   0.485   0.465   \n",
       "125      AYA                   Aya Gold and Silver Inc   9.750   8.920   \n",
       "\n",
       "      Close   Volume                                             URL  \n",
       "0     0.045   177000      http://eoddata.com//stockquote/TSX/AAB.htm  \n",
       "1     9.860  1289915      http://eoddata.com//stockquote/TSX/AAV.htm  \n",
       "2     4.780     5600     http://eoddata.com//stockquote/TSX/ABCT.htm  \n",
       "3    13.850    50324     http://eoddata.com//stockquote/TSX/ABST.htm  \n",
       "4     1.870     4100     http://eoddata.com//stockquote/TSX/ABTC.htm  \n",
       "..      ...      ...                                             ...  \n",
       "121  23.000      100  http://eoddata.com//stockquote/TSX/AX.PR.E.htm  \n",
       "122  24.200      516  http://eoddata.com//stockquote/TSX/AX.PR.I.htm  \n",
       "123   9.000   314994    http://eoddata.com//stockquote/TSX/AX.UN.htm  \n",
       "124   0.485     4500     http://eoddata.com//stockquote/TSX/AXIS.htm  \n",
       "125   9.640   648010      http://eoddata.com//stockquote/TSX/AYA.htm  \n",
       "\n",
       "[126 rows x 7 columns]"
      ]
     },
     "execution_count": 63,
     "metadata": {},
     "output_type": "execute_result"
    }
   ],
   "source": [
    "pd.read_csv('A.csv')"
   ]
  },
  {
   "cell_type": "markdown",
   "id": "b6923c6f",
   "metadata": {},
   "source": [
    "![](https://imgur.com/rFBRgTz.jpg)"
   ]
  },
  {
   "cell_type": "markdown",
   "id": "86d4779b",
   "metadata": {},
   "source": [
    "## Final function with all the information above "
   ]
  },
  {
   "cell_type": "code",
   "execution_count": 64,
   "id": "6e367174",
   "metadata": {},
   "outputs": [],
   "source": [
    "def scrap_stockInfo(alpha_list):  \n",
    "    base_url = \"http://eoddata.com/stocklist/TSX/\"\n",
    "    \n",
    "    for i in range(len(alpha_list)):\n",
    "        data_url = base_url + alpha_list[i] +\".htm\"\n",
    "        response = requests.get(data_url)\n",
    "        page_contents = response.text\n",
    "        doc = BeautifulSoup(page_contents, 'html.parser')\n",
    "        tr_tags1 = doc.find_all('tr',{'class':'ro'})\n",
    "        tr_tags2 = doc.find_all('tr',{'class':'re'})\n",
    "        all_records_1 = [parse_document(tag) for tag in tr_tags1]\n",
    "        all_records_2 = [parse_document(tag) for tag in tr_tags2]\n",
    "        all_records = [item for sublist in zip(all_records_1, all_records_2) for item in sublist]\n",
    "        \n",
    "        file_name = alpha_list[i] + \".csv\"\n",
    "        write_csv(all_records,file_name)"
   ]
  },
  {
   "cell_type": "markdown",
   "id": "9faca847",
   "metadata": {},
   "source": [
    "### Creating separate csv for each alphabet across multiple pages\n"
   ]
  },
  {
   "cell_type": "code",
   "execution_count": 65,
   "id": "31b83fd6",
   "metadata": {},
   "outputs": [],
   "source": [
    "alpha_list = ['A','B','D','E','F','G','H']"
   ]
  },
  {
   "cell_type": "code",
   "execution_count": 66,
   "id": "1486757b",
   "metadata": {},
   "outputs": [],
   "source": [
    "scrap_stockInfo(alpha_list)"
   ]
  },
  {
   "cell_type": "markdown",
   "id": "711f5d2a",
   "metadata": {},
   "source": [
    "![](https://imgur.com/18p9k7c.jpg)"
   ]
  },
  {
   "cell_type": "code",
   "execution_count": 67,
   "id": "7e1f5ab9",
   "metadata": {},
   "outputs": [
    {
     "data": {
      "text/html": [
       "<div>\n",
       "<style scoped>\n",
       "    .dataframe tbody tr th:only-of-type {\n",
       "        vertical-align: middle;\n",
       "    }\n",
       "\n",
       "    .dataframe tbody tr th {\n",
       "        vertical-align: top;\n",
       "    }\n",
       "\n",
       "    .dataframe thead th {\n",
       "        text-align: right;\n",
       "    }\n",
       "</style>\n",
       "<table border=\"1\" class=\"dataframe\">\n",
       "  <thead>\n",
       "    <tr style=\"text-align: right;\">\n",
       "      <th></th>\n",
       "      <th>Symbol</th>\n",
       "      <th>Name</th>\n",
       "      <th>High</th>\n",
       "      <th>Low</th>\n",
       "      <th>Close</th>\n",
       "      <th>Volume</th>\n",
       "      <th>URL</th>\n",
       "    </tr>\n",
       "  </thead>\n",
       "  <tbody>\n",
       "    <tr>\n",
       "      <th>0</th>\n",
       "      <td>H</td>\n",
       "      <td>Hydro One Ltd</td>\n",
       "      <td>36.71</td>\n",
       "      <td>36.16</td>\n",
       "      <td>36.64</td>\n",
       "      <td>832566</td>\n",
       "      <td>http://eoddata.com//stockquote/TSX/H.htm</td>\n",
       "    </tr>\n",
       "    <tr>\n",
       "      <th>1</th>\n",
       "      <td>HAB</td>\n",
       "      <td>Horizons Active Corporate Bond ETF</td>\n",
       "      <td>9.76</td>\n",
       "      <td>9.67</td>\n",
       "      <td>9.67</td>\n",
       "      <td>18401</td>\n",
       "      <td>http://eoddata.com//stockquote/TSX/HAB.htm</td>\n",
       "    </tr>\n",
       "    <tr>\n",
       "      <th>2</th>\n",
       "      <td>HAC</td>\n",
       "      <td>Horizons Seasonal Rotation ETF</td>\n",
       "      <td>25.02</td>\n",
       "      <td>24.92</td>\n",
       "      <td>24.92</td>\n",
       "      <td>533</td>\n",
       "      <td>http://eoddata.com//stockquote/TSX/HAC.htm</td>\n",
       "    </tr>\n",
       "    <tr>\n",
       "      <th>3</th>\n",
       "      <td>HAD</td>\n",
       "      <td>Horizons Active CDN Bond ETF</td>\n",
       "      <td>9.00</td>\n",
       "      <td>9.00</td>\n",
       "      <td>9.00</td>\n",
       "      <td>1800</td>\n",
       "      <td>http://eoddata.com//stockquote/TSX/HAD.htm</td>\n",
       "    </tr>\n",
       "    <tr>\n",
       "      <th>4</th>\n",
       "      <td>HAF</td>\n",
       "      <td>Horizons Active Global Fixed Income ETF</td>\n",
       "      <td>6.99</td>\n",
       "      <td>6.98</td>\n",
       "      <td>6.99</td>\n",
       "      <td>800</td>\n",
       "      <td>http://eoddata.com//stockquote/TSX/HAF.htm</td>\n",
       "    </tr>\n",
       "    <tr>\n",
       "      <th>...</th>\n",
       "      <td>...</td>\n",
       "      <td>...</td>\n",
       "      <td>...</td>\n",
       "      <td>...</td>\n",
       "      <td>...</td>\n",
       "      <td>...</td>\n",
       "      <td>...</td>\n",
       "    </tr>\n",
       "    <tr>\n",
       "      <th>161</th>\n",
       "      <td>HYLD</td>\n",
       "      <td>Hamilton Enhanced U.S. Covered Call ETF</td>\n",
       "      <td>12.12</td>\n",
       "      <td>11.90</td>\n",
       "      <td>12.03</td>\n",
       "      <td>177413</td>\n",
       "      <td>http://eoddata.com//stockquote/TSX/HYLD.htm</td>\n",
       "    </tr>\n",
       "    <tr>\n",
       "      <th>162</th>\n",
       "      <td>HYLD.U</td>\n",
       "      <td>Hamilton Enhanced US Coverd Call ETF USD</td>\n",
       "      <td>12.10</td>\n",
       "      <td>12.05</td>\n",
       "      <td>12.10</td>\n",
       "      <td>1307</td>\n",
       "      <td>http://eoddata.com//stockquote/TSX/HYLD.U.htm</td>\n",
       "    </tr>\n",
       "    <tr>\n",
       "      <th>163</th>\n",
       "      <td>HZD</td>\n",
       "      <td>Betapro Silver 2X Daily Bear ETF</td>\n",
       "      <td>15.05</td>\n",
       "      <td>14.85</td>\n",
       "      <td>15.04</td>\n",
       "      <td>14186</td>\n",
       "      <td>http://eoddata.com//stockquote/TSX/HZD.htm</td>\n",
       "    </tr>\n",
       "    <tr>\n",
       "      <th>164</th>\n",
       "      <td>HZM</td>\n",
       "      <td>Horizonte Minerals Plc</td>\n",
       "      <td>2.38</td>\n",
       "      <td>2.38</td>\n",
       "      <td>2.38</td>\n",
       "      <td>1000</td>\n",
       "      <td>http://eoddata.com//stockquote/TSX/HZM.htm</td>\n",
       "    </tr>\n",
       "    <tr>\n",
       "      <th>165</th>\n",
       "      <td>HZU</td>\n",
       "      <td>Betapro Silver 2X Daily Bull ETF</td>\n",
       "      <td>24.29</td>\n",
       "      <td>23.82</td>\n",
       "      <td>23.91</td>\n",
       "      <td>25968</td>\n",
       "      <td>http://eoddata.com//stockquote/TSX/HZU.htm</td>\n",
       "    </tr>\n",
       "  </tbody>\n",
       "</table>\n",
       "<p>166 rows × 7 columns</p>\n",
       "</div>"
      ],
      "text/plain": [
       "     Symbol                                      Name   High    Low  Close  \\\n",
       "0         H                             Hydro One Ltd  36.71  36.16  36.64   \n",
       "1       HAB        Horizons Active Corporate Bond ETF   9.76   9.67   9.67   \n",
       "2       HAC            Horizons Seasonal Rotation ETF  25.02  24.92  24.92   \n",
       "3       HAD              Horizons Active CDN Bond ETF   9.00   9.00   9.00   \n",
       "4       HAF   Horizons Active Global Fixed Income ETF   6.99   6.98   6.99   \n",
       "..      ...                                       ...    ...    ...    ...   \n",
       "161    HYLD   Hamilton Enhanced U.S. Covered Call ETF  12.12  11.90  12.03   \n",
       "162  HYLD.U  Hamilton Enhanced US Coverd Call ETF USD  12.10  12.05  12.10   \n",
       "163     HZD          Betapro Silver 2X Daily Bear ETF  15.05  14.85  15.04   \n",
       "164     HZM                    Horizonte Minerals Plc   2.38   2.38   2.38   \n",
       "165     HZU          Betapro Silver 2X Daily Bull ETF  24.29  23.82  23.91   \n",
       "\n",
       "     Volume                                            URL  \n",
       "0    832566       http://eoddata.com//stockquote/TSX/H.htm  \n",
       "1     18401     http://eoddata.com//stockquote/TSX/HAB.htm  \n",
       "2       533     http://eoddata.com//stockquote/TSX/HAC.htm  \n",
       "3      1800     http://eoddata.com//stockquote/TSX/HAD.htm  \n",
       "4       800     http://eoddata.com//stockquote/TSX/HAF.htm  \n",
       "..      ...                                            ...  \n",
       "161  177413    http://eoddata.com//stockquote/TSX/HYLD.htm  \n",
       "162    1307  http://eoddata.com//stockquote/TSX/HYLD.U.htm  \n",
       "163   14186     http://eoddata.com//stockquote/TSX/HZD.htm  \n",
       "164    1000     http://eoddata.com//stockquote/TSX/HZM.htm  \n",
       "165   25968     http://eoddata.com//stockquote/TSX/HZU.htm  \n",
       "\n",
       "[166 rows x 7 columns]"
      ]
     },
     "execution_count": 67,
     "metadata": {},
     "output_type": "execute_result"
    }
   ],
   "source": [
    "pd.read_csv('H.csv')"
   ]
  },
  {
   "cell_type": "markdown",
   "id": "33da3d9a",
   "metadata": {},
   "source": [
    "### We created csv for each stock starting with the Alphabets, Combining everything and removeing the individual files"
   ]
  },
  {
   "cell_type": "code",
   "execution_count": 68,
   "id": "b80c2940",
   "metadata": {},
   "outputs": [],
   "source": [
    "import os\n",
    "\n",
    "# create empty list\n",
    "final_list = []\n",
    " \n",
    "# append individual csv into the list\n",
    "for i in range(len(alpha_list)):\n",
    "    temp_df = pd.read_csv(alpha_list[i]+\".csv\")\n",
    "    os.remove(alpha_list[i]+\".csv\")\n",
    "    final_list.append(temp_df)\n",
    "    \n",
    "# create new data frame with the combined list\n",
    "merged_df = pd.concat(final_list,axis=0, ignore_index=True)\n",
    "\n",
    "# export into final csv\n",
    "merged_df.to_csv( \"Toronto_Stocks.csv\", index=None)"
   ]
  },
  {
   "cell_type": "code",
   "execution_count": 69,
   "id": "a9b00313",
   "metadata": {},
   "outputs": [
    {
     "name": "stdout",
     "output_type": "stream",
     "text": [
      "<class 'pandas.core.frame.DataFrame'>\n",
      "RangeIndex: 984 entries, 0 to 983\n",
      "Data columns (total 7 columns):\n",
      " #   Column  Non-Null Count  Dtype  \n",
      "---  ------  --------------  -----  \n",
      " 0   Symbol  984 non-null    object \n",
      " 1   Name    984 non-null    object \n",
      " 2   High    984 non-null    float64\n",
      " 3   Low     984 non-null    float64\n",
      " 4   Close   984 non-null    float64\n",
      " 5   Volume  984 non-null    int64  \n",
      " 6   URL     984 non-null    object \n",
      "dtypes: float64(3), int64(1), object(3)\n",
      "memory usage: 53.9+ KB\n"
     ]
    }
   ],
   "source": [
    "merged_df.info()"
   ]
  },
  {
   "cell_type": "markdown",
   "id": "274698cf",
   "metadata": {},
   "source": [
    "![](https://imgur.com/OKlUoJd.jpg)"
   ]
  },
  {
   "cell_type": "code",
   "execution_count": 73,
   "id": "336f6bab",
   "metadata": {
    "scrolled": true
   },
   "outputs": [
    {
     "data": {
      "text/html": [
       "<div>\n",
       "<style scoped>\n",
       "    .dataframe tbody tr th:only-of-type {\n",
       "        vertical-align: middle;\n",
       "    }\n",
       "\n",
       "    .dataframe tbody tr th {\n",
       "        vertical-align: top;\n",
       "    }\n",
       "\n",
       "    .dataframe thead th {\n",
       "        text-align: right;\n",
       "    }\n",
       "</style>\n",
       "<table border=\"1\" class=\"dataframe\">\n",
       "  <thead>\n",
       "    <tr style=\"text-align: right;\">\n",
       "      <th></th>\n",
       "      <th>Symbol</th>\n",
       "      <th>Name</th>\n",
       "      <th>High</th>\n",
       "      <th>Low</th>\n",
       "      <th>Close</th>\n",
       "      <th>Volume</th>\n",
       "      <th>URL</th>\n",
       "    </tr>\n",
       "  </thead>\n",
       "  <tbody>\n",
       "    <tr>\n",
       "      <th>0</th>\n",
       "      <td>AAB</td>\n",
       "      <td>Aberdeen International Inc</td>\n",
       "      <td>0.05</td>\n",
       "      <td>0.045</td>\n",
       "      <td>0.045</td>\n",
       "      <td>177000</td>\n",
       "      <td>http://eoddata.com//stockquote/TSX/AAB.htm</td>\n",
       "    </tr>\n",
       "    <tr>\n",
       "      <th>1</th>\n",
       "      <td>AAV</td>\n",
       "      <td>Advantage Oil &amp; Gas Ltd</td>\n",
       "      <td>9.93</td>\n",
       "      <td>9.290</td>\n",
       "      <td>9.860</td>\n",
       "      <td>1289915</td>\n",
       "      <td>http://eoddata.com//stockquote/TSX/AAV.htm</td>\n",
       "    </tr>\n",
       "    <tr>\n",
       "      <th>2</th>\n",
       "      <td>ABCT</td>\n",
       "      <td>ABC Technologies Holdings Inc</td>\n",
       "      <td>5.02</td>\n",
       "      <td>4.780</td>\n",
       "      <td>4.780</td>\n",
       "      <td>5600</td>\n",
       "      <td>http://eoddata.com//stockquote/TSX/ABCT.htm</td>\n",
       "    </tr>\n",
       "    <tr>\n",
       "      <th>3</th>\n",
       "      <td>ABST</td>\n",
       "      <td>Absolute Software Corp</td>\n",
       "      <td>13.89</td>\n",
       "      <td>13.410</td>\n",
       "      <td>13.850</td>\n",
       "      <td>50324</td>\n",
       "      <td>http://eoddata.com//stockquote/TSX/ABST.htm</td>\n",
       "    </tr>\n",
       "    <tr>\n",
       "      <th>4</th>\n",
       "      <td>ABTC</td>\n",
       "      <td>Accelerate Carbon Negative Bitcoin ETF</td>\n",
       "      <td>1.87</td>\n",
       "      <td>1.860</td>\n",
       "      <td>1.870</td>\n",
       "      <td>4100</td>\n",
       "      <td>http://eoddata.com//stockquote/TSX/ABTC.htm</td>\n",
       "    </tr>\n",
       "    <tr>\n",
       "      <th>5</th>\n",
       "      <td>ABTC.U</td>\n",
       "      <td>Accelerate Carbon Neg Bitcoin ETF USD</td>\n",
       "      <td>1.33</td>\n",
       "      <td>1.330</td>\n",
       "      <td>1.330</td>\n",
       "      <td>2500</td>\n",
       "      <td>http://eoddata.com//stockquote/TSX/ABTC.U.htm</td>\n",
       "    </tr>\n",
       "    <tr>\n",
       "      <th>6</th>\n",
       "      <td>ABX</td>\n",
       "      <td>Barrick Gold Corp</td>\n",
       "      <td>24.06</td>\n",
       "      <td>23.600</td>\n",
       "      <td>23.790</td>\n",
       "      <td>6527468</td>\n",
       "      <td>http://eoddata.com//stockquote/TSX/ABX.htm</td>\n",
       "    </tr>\n",
       "    <tr>\n",
       "      <th>7</th>\n",
       "      <td>AC</td>\n",
       "      <td>Air Canada</td>\n",
       "      <td>19.83</td>\n",
       "      <td>19.500</td>\n",
       "      <td>19.580</td>\n",
       "      <td>2446800</td>\n",
       "      <td>http://eoddata.com//stockquote/TSX/AC.htm</td>\n",
       "    </tr>\n",
       "    <tr>\n",
       "      <th>8</th>\n",
       "      <td>ACAA</td>\n",
       "      <td>Arrow Canadian Advantage Alternative</td>\n",
       "      <td>20.31</td>\n",
       "      <td>20.310</td>\n",
       "      <td>20.310</td>\n",
       "      <td>100</td>\n",
       "      <td>http://eoddata.com//stockquote/TSX/ACAA.htm</td>\n",
       "    </tr>\n",
       "    <tr>\n",
       "      <th>9</th>\n",
       "      <td>ACB</td>\n",
       "      <td>Aurora Cannabis Inc</td>\n",
       "      <td>1.32</td>\n",
       "      <td>1.270</td>\n",
       "      <td>1.310</td>\n",
       "      <td>1188887</td>\n",
       "      <td>http://eoddata.com//stockquote/TSX/ACB.htm</td>\n",
       "    </tr>\n",
       "  </tbody>\n",
       "</table>\n",
       "</div>"
      ],
      "text/plain": [
       "   Symbol                                    Name   High     Low   Close  \\\n",
       "0     AAB              Aberdeen International Inc   0.05   0.045   0.045   \n",
       "1     AAV                 Advantage Oil & Gas Ltd   9.93   9.290   9.860   \n",
       "2    ABCT           ABC Technologies Holdings Inc   5.02   4.780   4.780   \n",
       "3    ABST                  Absolute Software Corp  13.89  13.410  13.850   \n",
       "4    ABTC  Accelerate Carbon Negative Bitcoin ETF   1.87   1.860   1.870   \n",
       "5  ABTC.U   Accelerate Carbon Neg Bitcoin ETF USD   1.33   1.330   1.330   \n",
       "6     ABX                       Barrick Gold Corp  24.06  23.600  23.790   \n",
       "7      AC                              Air Canada  19.83  19.500  19.580   \n",
       "8    ACAA    Arrow Canadian Advantage Alternative  20.31  20.310  20.310   \n",
       "9     ACB                     Aurora Cannabis Inc   1.32   1.270   1.310   \n",
       "\n",
       "    Volume                                            URL  \n",
       "0   177000     http://eoddata.com//stockquote/TSX/AAB.htm  \n",
       "1  1289915     http://eoddata.com//stockquote/TSX/AAV.htm  \n",
       "2     5600    http://eoddata.com//stockquote/TSX/ABCT.htm  \n",
       "3    50324    http://eoddata.com//stockquote/TSX/ABST.htm  \n",
       "4     4100    http://eoddata.com//stockquote/TSX/ABTC.htm  \n",
       "5     2500  http://eoddata.com//stockquote/TSX/ABTC.U.htm  \n",
       "6  6527468     http://eoddata.com//stockquote/TSX/ABX.htm  \n",
       "7  2446800      http://eoddata.com//stockquote/TSX/AC.htm  \n",
       "8      100    http://eoddata.com//stockquote/TSX/ACAA.htm  \n",
       "9  1188887     http://eoddata.com//stockquote/TSX/ACB.htm  "
      ]
     },
     "execution_count": 73,
     "metadata": {},
     "output_type": "execute_result"
    }
   ],
   "source": [
    "merged_df.head(10)"
   ]
  },
  {
   "cell_type": "code",
   "execution_count": 74,
   "id": "94e042bf",
   "metadata": {},
   "outputs": [
    {
     "data": {
      "text/html": [
       "<div>\n",
       "<style scoped>\n",
       "    .dataframe tbody tr th:only-of-type {\n",
       "        vertical-align: middle;\n",
       "    }\n",
       "\n",
       "    .dataframe tbody tr th {\n",
       "        vertical-align: top;\n",
       "    }\n",
       "\n",
       "    .dataframe thead th {\n",
       "        text-align: right;\n",
       "    }\n",
       "</style>\n",
       "<table border=\"1\" class=\"dataframe\">\n",
       "  <thead>\n",
       "    <tr style=\"text-align: right;\">\n",
       "      <th></th>\n",
       "      <th>Symbol</th>\n",
       "      <th>Name</th>\n",
       "      <th>High</th>\n",
       "      <th>Low</th>\n",
       "      <th>Close</th>\n",
       "      <th>Volume</th>\n",
       "      <th>URL</th>\n",
       "    </tr>\n",
       "  </thead>\n",
       "  <tbody>\n",
       "    <tr>\n",
       "      <th>974</th>\n",
       "      <td>HXU</td>\n",
       "      <td>Betapro S&amp;P TSX 60 2X Daily Bull ETF</td>\n",
       "      <td>17.94</td>\n",
       "      <td>17.72</td>\n",
       "      <td>17.88</td>\n",
       "      <td>52277</td>\n",
       "      <td>http://eoddata.com//stockquote/TSX/HXU.htm</td>\n",
       "    </tr>\n",
       "    <tr>\n",
       "      <th>975</th>\n",
       "      <td>HXX</td>\n",
       "      <td>Horizons Euro Stoxx 50 Index ETF</td>\n",
       "      <td>37.41</td>\n",
       "      <td>37.13</td>\n",
       "      <td>37.41</td>\n",
       "      <td>1731</td>\n",
       "      <td>http://eoddata.com//stockquote/TSX/HXX.htm</td>\n",
       "    </tr>\n",
       "    <tr>\n",
       "      <th>976</th>\n",
       "      <td>HYBR</td>\n",
       "      <td>Horizons Active Hybrd Bond Prf Share ETF</td>\n",
       "      <td>7.63</td>\n",
       "      <td>7.63</td>\n",
       "      <td>7.63</td>\n",
       "      <td>1000</td>\n",
       "      <td>http://eoddata.com//stockquote/TSX/HYBR.htm</td>\n",
       "    </tr>\n",
       "    <tr>\n",
       "      <th>977</th>\n",
       "      <td>HYDR</td>\n",
       "      <td>Horizons Global Hydrogen Index ETF</td>\n",
       "      <td>12.76</td>\n",
       "      <td>12.62</td>\n",
       "      <td>12.76</td>\n",
       "      <td>717</td>\n",
       "      <td>http://eoddata.com//stockquote/TSX/HYDR.htm</td>\n",
       "    </tr>\n",
       "    <tr>\n",
       "      <th>978</th>\n",
       "      <td>HYI</td>\n",
       "      <td>Horizons Active High Yield Bond ETF</td>\n",
       "      <td>7.68</td>\n",
       "      <td>7.62</td>\n",
       "      <td>7.65</td>\n",
       "      <td>7258</td>\n",
       "      <td>http://eoddata.com//stockquote/TSX/HYI.htm</td>\n",
       "    </tr>\n",
       "    <tr>\n",
       "      <th>979</th>\n",
       "      <td>HYLD</td>\n",
       "      <td>Hamilton Enhanced U.S. Covered Call ETF</td>\n",
       "      <td>12.12</td>\n",
       "      <td>11.90</td>\n",
       "      <td>12.03</td>\n",
       "      <td>177413</td>\n",
       "      <td>http://eoddata.com//stockquote/TSX/HYLD.htm</td>\n",
       "    </tr>\n",
       "    <tr>\n",
       "      <th>980</th>\n",
       "      <td>HYLD.U</td>\n",
       "      <td>Hamilton Enhanced US Coverd Call ETF USD</td>\n",
       "      <td>12.10</td>\n",
       "      <td>12.05</td>\n",
       "      <td>12.10</td>\n",
       "      <td>1307</td>\n",
       "      <td>http://eoddata.com//stockquote/TSX/HYLD.U.htm</td>\n",
       "    </tr>\n",
       "    <tr>\n",
       "      <th>981</th>\n",
       "      <td>HZD</td>\n",
       "      <td>Betapro Silver 2X Daily Bear ETF</td>\n",
       "      <td>15.05</td>\n",
       "      <td>14.85</td>\n",
       "      <td>15.04</td>\n",
       "      <td>14186</td>\n",
       "      <td>http://eoddata.com//stockquote/TSX/HZD.htm</td>\n",
       "    </tr>\n",
       "    <tr>\n",
       "      <th>982</th>\n",
       "      <td>HZM</td>\n",
       "      <td>Horizonte Minerals Plc</td>\n",
       "      <td>2.38</td>\n",
       "      <td>2.38</td>\n",
       "      <td>2.38</td>\n",
       "      <td>1000</td>\n",
       "      <td>http://eoddata.com//stockquote/TSX/HZM.htm</td>\n",
       "    </tr>\n",
       "    <tr>\n",
       "      <th>983</th>\n",
       "      <td>HZU</td>\n",
       "      <td>Betapro Silver 2X Daily Bull ETF</td>\n",
       "      <td>24.29</td>\n",
       "      <td>23.82</td>\n",
       "      <td>23.91</td>\n",
       "      <td>25968</td>\n",
       "      <td>http://eoddata.com//stockquote/TSX/HZU.htm</td>\n",
       "    </tr>\n",
       "  </tbody>\n",
       "</table>\n",
       "</div>"
      ],
      "text/plain": [
       "     Symbol                                      Name   High    Low  Close  \\\n",
       "974     HXU      Betapro S&P TSX 60 2X Daily Bull ETF  17.94  17.72  17.88   \n",
       "975     HXX          Horizons Euro Stoxx 50 Index ETF  37.41  37.13  37.41   \n",
       "976    HYBR  Horizons Active Hybrd Bond Prf Share ETF   7.63   7.63   7.63   \n",
       "977    HYDR        Horizons Global Hydrogen Index ETF  12.76  12.62  12.76   \n",
       "978     HYI       Horizons Active High Yield Bond ETF   7.68   7.62   7.65   \n",
       "979    HYLD   Hamilton Enhanced U.S. Covered Call ETF  12.12  11.90  12.03   \n",
       "980  HYLD.U  Hamilton Enhanced US Coverd Call ETF USD  12.10  12.05  12.10   \n",
       "981     HZD          Betapro Silver 2X Daily Bear ETF  15.05  14.85  15.04   \n",
       "982     HZM                    Horizonte Minerals Plc   2.38   2.38   2.38   \n",
       "983     HZU          Betapro Silver 2X Daily Bull ETF  24.29  23.82  23.91   \n",
       "\n",
       "     Volume                                            URL  \n",
       "974   52277     http://eoddata.com//stockquote/TSX/HXU.htm  \n",
       "975    1731     http://eoddata.com//stockquote/TSX/HXX.htm  \n",
       "976    1000    http://eoddata.com//stockquote/TSX/HYBR.htm  \n",
       "977     717    http://eoddata.com//stockquote/TSX/HYDR.htm  \n",
       "978    7258     http://eoddata.com//stockquote/TSX/HYI.htm  \n",
       "979  177413    http://eoddata.com//stockquote/TSX/HYLD.htm  \n",
       "980    1307  http://eoddata.com//stockquote/TSX/HYLD.U.htm  \n",
       "981   14186     http://eoddata.com//stockquote/TSX/HZD.htm  \n",
       "982    1000     http://eoddata.com//stockquote/TSX/HZM.htm  \n",
       "983   25968     http://eoddata.com//stockquote/TSX/HZU.htm  "
      ]
     },
     "execution_count": 74,
     "metadata": {},
     "output_type": "execute_result"
    }
   ],
   "source": [
    "merged_df.tail(10)"
   ]
  },
  {
   "cell_type": "code",
   "execution_count": 76,
   "id": "80e0fcd1",
   "metadata": {},
   "outputs": [
    {
     "data": {
      "text/html": [
       "<div>\n",
       "<style scoped>\n",
       "    .dataframe tbody tr th:only-of-type {\n",
       "        vertical-align: middle;\n",
       "    }\n",
       "\n",
       "    .dataframe tbody tr th {\n",
       "        vertical-align: top;\n",
       "    }\n",
       "\n",
       "    .dataframe thead th {\n",
       "        text-align: right;\n",
       "    }\n",
       "</style>\n",
       "<table border=\"1\" class=\"dataframe\">\n",
       "  <thead>\n",
       "    <tr style=\"text-align: right;\">\n",
       "      <th></th>\n",
       "      <th>Symbol</th>\n",
       "      <th>Name</th>\n",
       "      <th>High</th>\n",
       "      <th>Low</th>\n",
       "      <th>Close</th>\n",
       "      <th>Volume</th>\n",
       "      <th>URL</th>\n",
       "    </tr>\n",
       "  </thead>\n",
       "  <tbody>\n",
       "    <tr>\n",
       "      <th>117</th>\n",
       "      <td>AVL</td>\n",
       "      <td>Avalon Advanced Materials Inc</td>\n",
       "      <td>0.120</td>\n",
       "      <td>0.115</td>\n",
       "      <td>0.120</td>\n",
       "      <td>269234</td>\n",
       "      <td>http://eoddata.com//stockquote/TSX/AVL.htm</td>\n",
       "    </tr>\n",
       "    <tr>\n",
       "      <th>118</th>\n",
       "      <td>AVNT</td>\n",
       "      <td>Avant Brands Inc</td>\n",
       "      <td>0.185</td>\n",
       "      <td>0.175</td>\n",
       "      <td>0.180</td>\n",
       "      <td>97453</td>\n",
       "      <td>http://eoddata.com//stockquote/TSX/AVNT.htm</td>\n",
       "    </tr>\n",
       "    <tr>\n",
       "      <th>119</th>\n",
       "      <td>AVNT.WT</td>\n",
       "      <td>Avant Brands Inc WT</td>\n",
       "      <td>0.005</td>\n",
       "      <td>0.005</td>\n",
       "      <td>0.005</td>\n",
       "      <td>1000</td>\n",
       "      <td>http://eoddata.com//stockquote/TSX/AVNT.WT.htm</td>\n",
       "    </tr>\n",
       "    <tr>\n",
       "      <th>120</th>\n",
       "      <td>AW.UN</td>\n",
       "      <td>A&amp;W Revenue Royalties Income Fund</td>\n",
       "      <td>36.750</td>\n",
       "      <td>35.890</td>\n",
       "      <td>36.000</td>\n",
       "      <td>4386</td>\n",
       "      <td>http://eoddata.com//stockquote/TSX/AW.UN.htm</td>\n",
       "    </tr>\n",
       "    <tr>\n",
       "      <th>121</th>\n",
       "      <td>AX.PR.E</td>\n",
       "      <td>Artis REIT Pref Ser E</td>\n",
       "      <td>23.000</td>\n",
       "      <td>23.000</td>\n",
       "      <td>23.000</td>\n",
       "      <td>100</td>\n",
       "      <td>http://eoddata.com//stockquote/TSX/AX.PR.E.htm</td>\n",
       "    </tr>\n",
       "    <tr>\n",
       "      <th>122</th>\n",
       "      <td>AX.PR.I</td>\n",
       "      <td>Artis REIT Pref Series I</td>\n",
       "      <td>24.430</td>\n",
       "      <td>24.200</td>\n",
       "      <td>24.200</td>\n",
       "      <td>516</td>\n",
       "      <td>http://eoddata.com//stockquote/TSX/AX.PR.I.htm</td>\n",
       "    </tr>\n",
       "    <tr>\n",
       "      <th>123</th>\n",
       "      <td>AX.UN</td>\n",
       "      <td>Artis Real Estate Investment Trust Units</td>\n",
       "      <td>9.060</td>\n",
       "      <td>8.940</td>\n",
       "      <td>9.000</td>\n",
       "      <td>314994</td>\n",
       "      <td>http://eoddata.com//stockquote/TSX/AX.UN.htm</td>\n",
       "    </tr>\n",
       "    <tr>\n",
       "      <th>124</th>\n",
       "      <td>AXIS</td>\n",
       "      <td>Axis Auto Finance Inc</td>\n",
       "      <td>0.485</td>\n",
       "      <td>0.465</td>\n",
       "      <td>0.485</td>\n",
       "      <td>4500</td>\n",
       "      <td>http://eoddata.com//stockquote/TSX/AXIS.htm</td>\n",
       "    </tr>\n",
       "    <tr>\n",
       "      <th>125</th>\n",
       "      <td>AYA</td>\n",
       "      <td>Aya Gold and Silver Inc</td>\n",
       "      <td>9.750</td>\n",
       "      <td>8.920</td>\n",
       "      <td>9.640</td>\n",
       "      <td>648010</td>\n",
       "      <td>http://eoddata.com//stockquote/TSX/AYA.htm</td>\n",
       "    </tr>\n",
       "    <tr>\n",
       "      <th>126</th>\n",
       "      <td>BABY</td>\n",
       "      <td>Else Nutrition Holdings Inc</td>\n",
       "      <td>0.580</td>\n",
       "      <td>0.540</td>\n",
       "      <td>0.550</td>\n",
       "      <td>34848</td>\n",
       "      <td>http://eoddata.com//stockquote/TSX/BABY.htm</td>\n",
       "    </tr>\n",
       "    <tr>\n",
       "      <th>127</th>\n",
       "      <td>BAM</td>\n",
       "      <td>Brookfield Asset Management Ltd</td>\n",
       "      <td>40.300</td>\n",
       "      <td>38.320</td>\n",
       "      <td>38.370</td>\n",
       "      <td>1121854</td>\n",
       "      <td>http://eoddata.com//stockquote/TSX/BAM.htm</td>\n",
       "    </tr>\n",
       "  </tbody>\n",
       "</table>\n",
       "</div>"
      ],
      "text/plain": [
       "      Symbol                                      Name    High     Low  \\\n",
       "117      AVL             Avalon Advanced Materials Inc   0.120   0.115   \n",
       "118     AVNT                          Avant Brands Inc   0.185   0.175   \n",
       "119  AVNT.WT                       Avant Brands Inc WT   0.005   0.005   \n",
       "120    AW.UN         A&W Revenue Royalties Income Fund  36.750  35.890   \n",
       "121  AX.PR.E                     Artis REIT Pref Ser E  23.000  23.000   \n",
       "122  AX.PR.I                  Artis REIT Pref Series I  24.430  24.200   \n",
       "123    AX.UN  Artis Real Estate Investment Trust Units   9.060   8.940   \n",
       "124     AXIS                     Axis Auto Finance Inc   0.485   0.465   \n",
       "125      AYA                   Aya Gold and Silver Inc   9.750   8.920   \n",
       "126     BABY               Else Nutrition Holdings Inc   0.580   0.540   \n",
       "127      BAM           Brookfield Asset Management Ltd  40.300  38.320   \n",
       "\n",
       "      Close   Volume                                             URL  \n",
       "117   0.120   269234      http://eoddata.com//stockquote/TSX/AVL.htm  \n",
       "118   0.180    97453     http://eoddata.com//stockquote/TSX/AVNT.htm  \n",
       "119   0.005     1000  http://eoddata.com//stockquote/TSX/AVNT.WT.htm  \n",
       "120  36.000     4386    http://eoddata.com//stockquote/TSX/AW.UN.htm  \n",
       "121  23.000      100  http://eoddata.com//stockquote/TSX/AX.PR.E.htm  \n",
       "122  24.200      516  http://eoddata.com//stockquote/TSX/AX.PR.I.htm  \n",
       "123   9.000   314994    http://eoddata.com//stockquote/TSX/AX.UN.htm  \n",
       "124   0.485     4500     http://eoddata.com//stockquote/TSX/AXIS.htm  \n",
       "125   9.640   648010      http://eoddata.com//stockquote/TSX/AYA.htm  \n",
       "126   0.550    34848     http://eoddata.com//stockquote/TSX/BABY.htm  \n",
       "127  38.370  1121854      http://eoddata.com//stockquote/TSX/BAM.htm  "
      ]
     },
     "execution_count": 76,
     "metadata": {},
     "output_type": "execute_result"
    }
   ],
   "source": [
    "merged_df.loc[117:127]"
   ]
  },
  {
   "cell_type": "markdown",
   "id": "aed44c85",
   "metadata": {},
   "source": [
    "## Summary\n",
    "\n",
    "Finally, we have managed to `parse` 'EOD Data website' to get our hands on very **interesting and insightful data** when it comes world of financial stock information.  \n",
    "We have saved all the information we could extract from that website for our needs in a `CSV` file using which we can further get answers to a lot of questions we may want to ask, e.g - `Which stock was best but on the given day`\n",
    "![](https://imgur.com/uAGgHE3.jpg)\n",
    "\n",
    ">### Packages Used:\n",
    ">1. Requests — For downloading the HTML code from the IMDB URL\n",
    ">2. BeautifulSoup4 — For parsing and extracting data from the HTML string\n",
    ">3. Pandas — to gather my data into a dataframe for further processing"
   ]
  },
  {
   "cell_type": "markdown",
   "id": "ace25681",
   "metadata": {},
   "source": [
    "\n",
    "\n",
    "Let us look at the steps that we took from start to finish : \n",
    "\n",
    "1. We downloaded the webpage using `requests`  \n",
    "\n",
    "\n",
    "2. We `parsed` the HTML source code using `BeautifulSoup` library and extracted the desired information, i.e.\n",
    "    * Stock Name\n",
    "    * Opening and closing price of each stock\n",
    "\n",
    "\n",
    "3. We extracted detailed information for each stock,such as :\n",
    "    * Stock Symbol\n",
    "    * Stock Name\n",
    "    * Highest price\n",
    "    * Lowest price\n",
    "    * Closing price\t\n",
    "    * Total volumes traded\n",
    "    * URL to get the historical data of the stock\t\n",
    "\n",
    "\n",
    "4. We then created a `Python Dictionary` to save all these details\n",
    "\n",
    "\n",
    "5. We converted the python dictionary into `Pandas DataFrames`\n",
    "\n",
    "\n",
    "6. Then we combined the multiple csv files generated for each alphabets into single data frame and remove others.\n",
    "\n",
    "\n",
    "7. With one single DataFrame in hand, we then converted it into a single `CSV` file, which was the goal of our project."
   ]
  },
  {
   "cell_type": "markdown",
   "id": "22677778",
   "metadata": {},
   "source": [
    "## Future Work"
   ]
  },
  {
   "cell_type": "markdown",
   "id": "834e434f",
   "metadata": {},
   "source": [
    "We can now work forward to explore this data more and more to fetch meaningful information out of it.  \n",
    "\n",
    "With all the insights , and further analysis into the data, we can have answers to a lot of questions like -   \n",
    "* Which stock performed better on the given day \n",
    "* Which stock traded more based on volume\n",
    "* Individual stock information\n",
    "* Gain/Loss information of the stock\n",
    "\n",
    "And the list goes on..\n",
    "\n",
    "In the future, I would like to work to make this `DataSet` even richer with \n",
    "\n",
    "* Stock information for symbols starting with other alphabets\n",
    "* Scrap the individual stock detail page to get more insights of specific stock\n",
    "* Scrap different exchanges like NASDAQ and others...\n",
    "* Automation script to scrap the stock information on daily basis to generate the data set which can be further used for Exploratory Data Analysis and draw interesting insights for stock market across different exchanges."
   ]
  },
  {
   "cell_type": "markdown",
   "id": "14f67c9c",
   "metadata": {},
   "source": [
    "## References "
   ]
  },
  {
   "cell_type": "markdown",
   "id": "2d5ae9dc",
   "metadata": {},
   "source": [
    "\n",
    "[1] Python offical documentation. https://docs.python.org/3/\n",
    "\n",
    "\n",
    "[2] Requests library. https://pypi.org/project/requests/\n",
    "\n",
    "\n",
    "[3] Beautiful Soup documentation. https://www.crummy.com/software/BeautifulSoup/bs4/doc/\n",
    "\n",
    "\n",
    "[4] Aakash N S, Introduction to Web Scraping, 2021. https://jovian.ai/aakashns/python-web-scraping-and-rest-api\n",
    "\n",
    "\n",
    "[5] Pandas library documentation. https://pandas.pydata.org/docs/\n",
    "\n",
    "\n",
    "[6] IMDB Website. https://www.imdb.com/chart/top\n",
    "\n",
    "\n",
    "[7] Web Scraping Article. https://www.toptal.com/python/web-scraping-with-python\n",
    "\n",
    "\n",
    "[8] Web Scraping Image. https://morioh.com/p/431153538ecb\n",
    "\n",
    "[8] Working with Jupyter Notebook https://towardsdatascience.com/write-markdown-latex-in-the-jupyter-notebook-10985edb91fd"
   ]
  },
  {
   "cell_type": "code",
   "execution_count": null,
   "id": "c78885d3",
   "metadata": {},
   "outputs": [
    {
     "data": {
      "application/javascript": [
       "window.require && require([\"base/js/namespace\"],function(Jupyter){Jupyter.notebook.save_checkpoint()})"
      ],
      "text/plain": [
       "<IPython.core.display.Javascript object>"
      ]
     },
     "metadata": {},
     "output_type": "display_data"
    }
   ],
   "source": [
    "jovian.commit(files=['Toronto_Stocks.csv'])\n"
   ]
  },
  {
   "cell_type": "code",
   "execution_count": null,
   "id": "c7662143",
   "metadata": {},
   "outputs": [],
   "source": []
  }
 ],
 "metadata": {
  "language_info": {
   "codemirror_mode": {
    "name": "ipython",
    "version": 3
   },
   "file_extension": ".py",
   "mimetype": "text/x-python",
   "name": "python",
   "nbconvert_exporter": "python",
   "pygments_lexer": "ipython3",
   "version": "3.9.13"
  }
 },
 "nbformat": 4,
 "nbformat_minor": 5
}